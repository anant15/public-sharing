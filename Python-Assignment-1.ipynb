{
 "cells": [
  {
   "cell_type": "markdown",
   "metadata": {},
   "source": [
    "1. Write a program to find the maximum of two numbers stored in variables."
   ]
  },
  {
   "cell_type": "code",
   "execution_count": 1,
   "metadata": {},
   "outputs": [
    {
     "name": "stdout",
     "output_type": "stream",
     "text": [
      "4\n"
     ]
    }
   ],
   "source": [
    "a, b = 3, 4\n",
    "maximum = a\n",
    "if b > maximum:\n",
    "    maximum = b\n",
    "print(maximum)"
   ]
  },
  {
   "cell_type": "markdown",
   "metadata": {},
   "source": [
    "2. Write a program to find the maximum of three numbers stored in variables"
   ]
  },
  {
   "cell_type": "code",
   "execution_count": 2,
   "metadata": {},
   "outputs": [
    {
     "name": "stdout",
     "output_type": "stream",
     "text": [
      "7\n"
     ]
    }
   ],
   "source": [
    "a, b, c = 5, 3, 7\n",
    "maximum = a\n",
    "if b > maximum:\n",
    "    maximum = b\n",
    "if c > maximum:\n",
    "    maximum = c\n",
    "print(maximum)"
   ]
  },
  {
   "cell_type": "markdown",
   "metadata": {},
   "source": [
    "3. Write a program to check whether a number is negative, positive or zero. Print out “negative”, “positive”, or “zero”.\n"
   ]
  },
  {
   "cell_type": "code",
   "execution_count": 3,
   "metadata": {},
   "outputs": [
    {
     "name": "stdout",
     "output_type": "stream",
     "text": [
      "negative\n"
     ]
    }
   ],
   "source": [
    "num = -1\n",
    "if num == 0:\n",
    "    print(\"zero\")\n",
    "elif num < 0:\n",
    "    print(\"negative\")\n",
    "else:\n",
    "    print(\"positive\")"
   ]
  },
  {
   "cell_type": "markdown",
   "metadata": {},
   "source": [
    "4. Write a program that prints “YES” if a number is divisible by both 5 and 11, and prints “NO” otherwise."
   ]
  },
  {
   "cell_type": "code",
   "execution_count": 8,
   "metadata": {},
   "outputs": [
    {
     "name": "stdout",
     "output_type": "stream",
     "text": [
      "YES\n"
     ]
    }
   ],
   "source": [
    "num = 55\n",
    "if (num % 5 == 0) and (num % 11 == 0):\n",
    "    print(\"YES\")\n",
    "else:\n",
    "    print(\"NO\")"
   ]
  },
  {
   "cell_type": "markdown",
   "metadata": {},
   "source": [
    "5. Write a program to check whether a year is a leap year or not.\n",
    "\n",
    "    HINT: In the Gregorian calendar, a normal year consists of 365 days. Because the actual length of a sidereal year (the time required for the Earth to revolve once about the Sun) is actually 365.25635 days, a \"leap year\" of 366 days is used once every four years to eliminate the error caused by three normal (but short) years. Any year that is evenly divisible by 4 is a leap year: for example, 1988, 1992, and 1996 are leap years. However, there is still a small error that must be accounted for. To eliminate this error, the Gregorian calendar stipulates that a year that is evenly divisible by 100 (for example, 1900) is a leap year only if it is also evenly divisible by 400.\n",
    "\n"
   ]
  },
  {
   "cell_type": "code",
   "execution_count": 30,
   "metadata": {},
   "outputs": [
    {
     "name": "stdout",
     "output_type": "stream",
     "text": [
      "False\n"
     ]
    }
   ],
   "source": [
    "year = 1900\n",
    "if year % 4:\n",
    "    if year % 100 == 0:\n",
    "        if year % 400 == 0:\n",
    "            print(True)\n",
    "        else:\n",
    "            print(False)\n",
    "    else:\n",
    "        print(True)\n",
    "else:\n",
    "    print(False)"
   ]
  },
  {
   "cell_type": "markdown",
   "metadata": {},
   "source": [
    "6. Write a program to check whether a character is an uppercase or lowercase alphabet. Print “U” for uppercase and “L” for lowercase.\n",
    "\n",
    "    HINT: You can compare two characters. Their ASCII codes will be compared."
   ]
  },
  {
   "cell_type": "code",
   "execution_count": 10,
   "metadata": {},
   "outputs": [
    {
     "name": "stdout",
     "output_type": "stream",
     "text": [
      "L\n"
     ]
    }
   ],
   "source": [
    "char = \"c\"\n",
    "if \"a\" <= char <= \"z\":\n",
    "    print(\"L\")\n",
    "elif \"A\" <= char <= \"Z\":\n",
    "    print(\"U\")"
   ]
  },
  {
   "cell_type": "markdown",
   "metadata": {},
   "source": [
    "7. Write a program which takes month number and print number of days in that month. \n",
    "    \n",
    "    For example:\n",
    "    For month=1 print “31 days”\n",
    "    For month=2 print “28 days”"
   ]
  },
  {
   "cell_type": "code",
   "execution_count": 21,
   "metadata": {},
   "outputs": [
    {
     "name": "stdout",
     "output_type": "stream",
     "text": [
      "31\n"
     ]
    }
   ],
   "source": [
    "month = 3\n",
    "if month == 2:\n",
    "    print(\"28\")\n",
    "elif (month%2==0 and month<=6) or (month%2!=0 and month>=8):\n",
    "    print(\"30\")\n",
    "else:\n",
    "    print(\"31\")"
   ]
  },
  {
   "cell_type": "markdown",
   "metadata": {},
   "source": [
    "8. Write a program to print the minimum number of Rupee notes needed to match a given amount. Available denominations of notes are 2000, 500, 100, 50.\n",
    "\n",
    "    For example, if the amount is 28,550, then you need 14 notes of 2000, 1 note of 500, and 1 note of 50. So the total number of notes is 14+1+1 = 16. \n",
    "    HINT: 6500 / 2000 gives you the number (3) of 2000 notes.\n",
    "    HINT: 6500 % 2000 gives you the amount remaining (500) after giving 3 notes of 2000."
   ]
  },
  {
   "cell_type": "code",
   "execution_count": 26,
   "metadata": {},
   "outputs": [
    {
     "name": "stdout",
     "output_type": "stream",
     "text": [
      "16\n"
     ]
    }
   ],
   "source": [
    "amount = 28550\n",
    "notes = 0\n",
    "if amount >= 2000:\n",
    "    notes += (amount // 2000)\n",
    "    amount = amount % 2000\n",
    "if amount >= 500:\n",
    "    notes += (amount // 500)\n",
    "    amount = amount % 500\n",
    "if amount >= 100:\n",
    "    notes += (amount // 100)\n",
    "    amount = amount % 100\n",
    "if amount >= 50:\n",
    "    notes += (amount // 50)\n",
    "    amount = amount % 50\n",
    "print(notes)"
   ]
  },
  {
   "cell_type": "markdown",
   "metadata": {},
   "source": [
    "9. Write a program to check if a triangle can be formed using the given lengths of 3 sides. \n",
    "\n",
    "    HINT: For example, if the sides are 10, 24, and 67, then you cannot make a triangle because 10+24 is not greater than or equal to 67."
   ]
  },
  {
   "cell_type": "code",
   "execution_count": 27,
   "metadata": {},
   "outputs": [
    {
     "name": "stdout",
     "output_type": "stream",
     "text": [
      "invalid\n"
     ]
    }
   ],
   "source": [
    "a, b, c = 10, 24, 67\n",
    "if (a + b > c) and (b + c > a) and (a + c > b):\n",
    "    print(\"valid\")\n",
    "else:\n",
    "    print(\"invalid\")"
   ]
  },
  {
   "cell_type": "markdown",
   "metadata": {},
   "source": [
    "10. Write a program to check whether the triangle is an equilateral, isosceles or scalene triangle. (Equilateral triangle has all 3 sides equal. An isosceles triangle has 2 sides equal. A scalene triangle has no side equal)."
   ]
  },
  {
   "cell_type": "code",
   "execution_count": 28,
   "metadata": {},
   "outputs": [
    {
     "name": "stdout",
     "output_type": "stream",
     "text": [
      "scalene\n"
     ]
    }
   ],
   "source": [
    "a, b, c = 10, 24, 67\n",
    "if a == b == c:\n",
    "    print(\"equilateral\")\n",
    "elif a == b or b == c or c == a:\n",
    "    print(\"isosceles\")\n",
    "else:\n",
    "    print(\"scalene\")"
   ]
  }
 ],
 "metadata": {
  "kernelspec": {
   "display_name": "Python 3",
   "language": "python",
   "name": "python3"
  },
  "language_info": {
   "codemirror_mode": {
    "name": "ipython",
    "version": 3
   },
   "file_extension": ".py",
   "mimetype": "text/x-python",
   "name": "python",
   "nbconvert_exporter": "python",
   "pygments_lexer": "ipython3",
   "version": "3.7.2"
  }
 },
 "nbformat": 4,
 "nbformat_minor": 2
}
