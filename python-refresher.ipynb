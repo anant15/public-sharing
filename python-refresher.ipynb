{
 "cells": [
  {
   "cell_type": "markdown",
   "metadata": {},
   "source": [
    "### Print directive, Data Types and Math Ops\n",
    "\n",
    "**Data Types**\n",
    "- Number (int): `1`, `2`, `300`, `0`, `-5`\n",
    "- Number (float): `1.5`, `0.66`, `3.1416`\n",
    "- String (str): `\"Anant Mittal\",` `\"anantm@vehant.com\"`, `\"\"`, `\"    \"`\n",
    "- Boolean (bool): `True`, `False`\n",
    "\n",
    "**Check the data type** <br>\n",
    "\n",
    "Use `type()` for finding the type of any data. Use `isinstance()` to check if the data is of particular data type."
   ]
  },
  {
   "cell_type": "code",
   "execution_count": 58,
   "metadata": {},
   "outputs": [
    {
     "name": "stdout",
     "output_type": "stream",
     "text": [
      "2.0\n",
      "1\n",
      "1\n",
      "-2\n",
      "Vehanttechnologies\n",
      "vehantvehantvehant\n",
      "------------------------------\n",
      "25\n",
      "1\n",
      "<class 'int'>\n",
      "True\n"
     ]
    }
   ],
   "source": [
    "print(True+1.0)\n",
    "print(4//3)\n",
    "print(3//2)\n",
    "print(-3//2)\n",
    "print(\"Vehant\"+\"technologies\")\n",
    "print(\"vehant\"*3)\n",
    "print(\"-\"*30)\n",
    "print(5**2)\n",
    "print(5%2)\n",
    "print(type(1))\n",
    "print(isinstance(1,int))"
   ]
  },
  {
   "cell_type": "markdown",
   "metadata": {},
   "source": [
    "### Python Variables"
   ]
  },
  {
   "cell_type": "code",
   "execution_count": 51,
   "metadata": {},
   "outputs": [],
   "source": [
    "x = 4\n",
    "x = 5.6\n",
    "x = \"Annat\""
   ]
  },
  {
   "cell_type": "markdown",
   "metadata": {},
   "source": [
    "### Condtionals (If-elif-else)"
   ]
  },
  {
   "cell_type": "code",
   "execution_count": null,
   "metadata": {},
   "outputs": [],
   "source": [
    "a, b, c = 2, 4, 5\n",
    "\n",
    "# check if the triangle is valid or not\n",
    "if (a+b>c) and (b+c>a) and (a+c>b):\n",
    "    print(\"Valid\")\n",
    "else:\n",
    "    print(\"Invalid\")\n",
    "    \n",
    "# check if the triangle is equilateral, isoceles or scalene\n",
    "# can use (a==b==c) --> chained operation\n",
    "if a==b==c: \n",
    "    print(\"Equilateral\")\n",
    "elif a!=b and b!=c and c!=a:\n",
    "    print(\"Scalene\")\n",
    "else:\n",
    "    print(\"Isosceles\")"
   ]
  },
  {
   "cell_type": "markdown",
   "metadata": {},
   "source": [
    "### Loops (for, while)\n",
    "\n",
    "`range()` has two signatures, \n",
    "- `range(stop)` \n",
    "- `range(start, stop, step=1)`\n",
    "\n",
    "The stop value is the value before which the sequence needs to end, so `range(3, 6)` will give `[3, 4, 5]`"
   ]
  },
  {
   "cell_type": "code",
   "execution_count": 77,
   "metadata": {},
   "outputs": [
    {
     "name": "stdout",
     "output_type": "stream",
     "text": [
      "0,1\n",
      "1,2\n",
      "2,3\n",
      "3,4\n",
      "4,5\n",
      "0\n",
      "1\n",
      "2\n",
      "3\n",
      "4\n",
      "5\n",
      "6\n",
      "7\n",
      "8\n",
      "9\n"
     ]
    }
   ],
   "source": [
    "list(range(20))\n",
    "list(range(3, 6))\n",
    "\n",
    "for i in range(5):\n",
    "    print(i, i+1, sep=\",\", end=\"\\n\")\n",
    "\n",
    "i=0\n",
    "while i < 10:\n",
    "    print(i)\n",
    "    i += 1"
   ]
  },
  {
   "cell_type": "markdown",
   "metadata": {},
   "source": [
    "### User-input"
   ]
  },
  {
   "cell_type": "code",
   "execution_count": 71,
   "metadata": {},
   "outputs": [
    {
     "name": "stdout",
     "output_type": "stream",
     "text": [
      "Enter something2.1\n"
     ]
    }
   ],
   "source": [
    "var = float(input(\"Enter something\"))"
   ]
  },
  {
   "cell_type": "code",
   "execution_count": 72,
   "metadata": {},
   "outputs": [
    {
     "name": "stdout",
     "output_type": "stream",
     "text": [
      "3.1\n"
     ]
    }
   ],
   "source": [
    "print(var+1)"
   ]
  },
  {
   "cell_type": "markdown",
   "metadata": {},
   "source": [
    "### Lists"
   ]
  },
  {
   "cell_type": "code",
   "execution_count": 84,
   "metadata": {},
   "outputs": [
    {
     "name": "stdout",
     "output_type": "stream",
     "text": [
      "[100, 95, 33, 44, '89']\n",
      "[100, 1, 2, 3, 4, 5, 44, '89']\n"
     ]
    }
   ],
   "source": [
    "marks = [100, 95, 33, 44, '89']\n",
    "print(marks)\n",
    "\n",
    "marks[1:3] = [1, 2, 3, 4, 5]\n",
    "print(marks)"
   ]
  },
  {
   "cell_type": "markdown",
   "metadata": {},
   "source": [
    "### Functions"
   ]
  },
  {
   "cell_type": "code",
   "execution_count": null,
   "metadata": {},
   "outputs": [],
   "source": []
  },
  {
   "cell_type": "markdown",
   "metadata": {},
   "source": [
    "### Memory and pointers"
   ]
  },
  {
   "cell_type": "code",
   "execution_count": 102,
   "metadata": {},
   "outputs": [
    {
     "name": "stdout",
     "output_type": "stream",
     "text": [
      "[10, 20, 30]\n",
      "[10, 20, 30]\n",
      "4752281800 4596825992\n",
      "4751674632\n",
      "True\n",
      "False\n"
     ]
    }
   ],
   "source": [
    "# a = [10, 20, 30]\n",
    "# print(a)\n",
    "# b = a\n",
    "# print(b)\n",
    "\n",
    "# a[1] = 40\n",
    "# print(a)\n",
    "# print(b)\n",
    "\n",
    "# print(id(a), id(b))\n",
    "\n",
    "# a_ = 10\n",
    "# print(id(a_))\n",
    "# b_ = a_\n",
    "# print(id(a_), id(b_))\n",
    "# a_ = 6\n",
    "# print(id(a_), id(b_))\n",
    "\n",
    "a = [10, 20, 30]\n",
    "d = list(a)\n",
    "print(a)\n",
    "print(d)\n",
    "print(id(a), id(d))\n",
    "e = a[:]\n",
    "print(id(e))\n",
    "print(a == d)\n",
    "print(a is d)"
   ]
  },
  {
   "cell_type": "markdown",
   "metadata": {},
   "source": [
    "### Object Oriented Programming"
   ]
  },
  {
   "cell_type": "code",
   "execution_count": 117,
   "metadata": {},
   "outputs": [
    {
     "name": "stdout",
     "output_type": "stream",
     "text": [
      "Creating an object\n",
      "1\n",
      "Creating an object\n",
      "Something\n"
     ]
    }
   ],
   "source": [
    "# class Student:\n",
    "#     pass\n",
    "\n",
    "# s1 = Student()\n",
    "# s2 = Student()\n",
    "# s3 = Student()\n",
    "# print(s1)\n",
    "# print(s2)\n",
    "# print(s3)\n",
    "# print(Student)\n",
    "\n",
    "# s1.name = \"Anant\"\n",
    "# s1.rollNumber = 1\n",
    "# s2.name = \"Billy\"\n",
    "# s2.rollNumber = 2\n",
    "# print(s1.name, s1.rollNumber)\n",
    "# print(s2.name, s2.rollNumber)\n",
    "\n",
    "# class Student:\n",
    "#     name = None\n",
    "#     rollNumber = None\n",
    "\n",
    "class Student:\n",
    "    def __init__(self, name, roll_number):\n",
    "        print(\"Creating an object\")\n",
    "        self.name = name\n",
    "        self.roll_number = roll_number\n",
    "\n",
    "    def __str__(self):\n",
    "        return f\"Student's name is {self.name}, and roll number is {self.roll_number}\"\n",
    "\n",
    "s1 = Student(\"Anne\", 1)\n",
    "print(s1.roll_number)\n",
    "s2 = Student(\"Billy\", 2)\n",
    "s2.works_for = \"Something\" # creating some specific attribute\n",
    "#print(s1.works_for)\n",
    "print(s2.works_for)"
   ]
  },
  {
   "cell_type": "code",
   "execution_count": 123,
   "metadata": {},
   "outputs": [
    {
     "name": "stdout",
     "output_type": "stream",
     "text": [
      "Account Number: 1\n",
      "Balance: 0\n",
      "Account Number: 1\n",
      "Balance: 100\n",
      "Account Number: 1\n",
      "Balance: 50\n",
      "Account Number: 1\n",
      "Balance: 30\n",
      "9999\n",
      "30\n",
      "10\n"
     ]
    }
   ],
   "source": [
    "class Account:\n",
    "    counter = 0\n",
    "    \n",
    "    def __init__(self, balance=0):\n",
    "        Account.counter += 1\n",
    "        self.account_no = Account.counter\n",
    "        self.__balance = balance # Name Mangling\n",
    "        self.trans = 0\n",
    "        self.max_trans = 3\n",
    "    \n",
    "    def deposit(self, amount):\n",
    "        if amount > 0 and self.trans < self.max_trans:\n",
    "            self.__balance += amount\n",
    "            self.trans += 1\n",
    "        else:\n",
    "            return False\n",
    "        return True\n",
    "    \n",
    "    def withdraw(self, amount):\n",
    "        if self.__balance >= amount  and self.trans < self.max_trans:\n",
    "            self.__balance -= amount\n",
    "            self.trans += 1\n",
    "        return amount\n",
    "    \n",
    "    def add_interest(self, interest_amount):\n",
    "        self.__balance += interest_amount\n",
    "        \n",
    "    def __str__(self):\n",
    "        return f\"Account Number: {self.account_no}\\n\" \\\n",
    "               f\"Balance: {self.__balance}\"\n",
    "    \n",
    "    def get_balance(self):\n",
    "        return self.__balance\n",
    "\n",
    "a1 = Account()\n",
    "print(a1)\n",
    "a1.deposit(100)\n",
    "print(a1)\n",
    "a1.withdraw(50)\n",
    "print(a1)\n",
    "a1.withdraw(20)\n",
    "print(a1)\n",
    "#print(a1.__balance)\n",
    "a1.__balance = 9999\n",
    "print(a1.__balance)\n",
    "print(a1.get_balance())\n",
    "\n",
    "class SavingsAccount(Account):\n",
    "    def get_interest(self):\n",
    "        return 0.03 * self.get_balance()\n",
    "    \n",
    "    def add_interest(self):\n",
    "        interest = self.get_interest()\n",
    "        super().add_interest(interest)\n",
    "\n",
    "class CurrentAccount(Account):\n",
    "    def __init__(self, bal=0):\n",
    "        super().__init__(bal)\n",
    "        self.max_trans = 10\n",
    "\n",
    "s1 = CurrentAccount(10)\n",
    "print(s1.max_trans)"
   ]
  },
  {
   "cell_type": "markdown",
   "metadata": {},
   "source": [
    "### Numpy"
   ]
  },
  {
   "cell_type": "code",
   "execution_count": 128,
   "metadata": {},
   "outputs": [
    {
     "name": "stdout",
     "output_type": "stream",
     "text": [
      "[1, 2, 3, 4, 1, 2, 3, 4]\n",
      "[2 4 6 8]\n",
      "['1' '100' '0' '101.2' 'anant']\n",
      "[ -1   0   1 129]\n",
      "[ -1.   0.   1. 129.]\n"
     ]
    }
   ],
   "source": [
    "import numpy as np\n",
    "a = [1, 2, 3, 4]\n",
    "print(a * 2)\n",
    "\n",
    "b = np.array([1, 2, 3, 4]) # we call them array instead of lists\n",
    "print(b * 2) # vectorization or broadcasting\n",
    "\n",
    "# implicit type conversion\n",
    "a = np.array([1, 100, 0, 101.2, \"anant\"])\n",
    "print(a)\n",
    "\n",
    "\n",
    "# explicit type conversion\n",
    "a = np.array([-1, 0, 1, 129], dtype=\"int16\")\n",
    "print(a)\n",
    "b = a.astype(\"float\")\n",
    "print(b)"
   ]
  },
  {
   "cell_type": "markdown",
   "metadata": {},
   "source": [
    "#### Reshape the array"
   ]
  },
  {
   "cell_type": "code",
   "execution_count": 130,
   "metadata": {},
   "outputs": [
    {
     "name": "stdout",
     "output_type": "stream",
     "text": [
      "[[ 1  2  3  4]\n",
      " [ 5  6  7  8]\n",
      " [ 9 10 11 12]]\n"
     ]
    }
   ],
   "source": [
    "a = np.arange(1, 13)\n",
    "a = a.reshape(3, 4)\n",
    "print(a)"
   ]
  },
  {
   "cell_type": "markdown",
   "metadata": {},
   "source": [
    "#### Indexing and Splicing"
   ]
  },
  {
   "cell_type": "code",
   "execution_count": 138,
   "metadata": {},
   "outputs": [
    {
     "name": "stdout",
     "output_type": "stream",
     "text": [
      "[1 2 3]\n",
      "(3, 2)\n",
      "  C_CONTIGUOUS : True\n",
      "  F_CONTIGUOUS : True\n",
      "  OWNDATA : True\n",
      "  WRITEABLE : True\n",
      "  ALIGNED : True\n",
      "  WRITEBACKIFCOPY : False\n",
      "  UPDATEIFCOPY : False\n",
      "\n",
      "False\n"
     ]
    }
   ],
   "source": [
    "a = np.arange(12)\n",
    "# print(a[2:7])\n",
    "# print(a[:7])\n",
    "# print(a[::2])\n",
    "\n",
    "b = a.reshape(3, 4) # 2-D conversion\n",
    "# print(b[0, 1])\n",
    "# print(b[0])\n",
    "print(b[0, 1:])\n",
    "c = b[:, ::2]\n",
    "print(c.shape)\n",
    "print(a.flags)\n",
    "print(b.flags['OWNDATA'])"
   ]
  },
  {
   "cell_type": "markdown",
   "metadata": {},
   "source": [
    "#### Vectoriztion or Broadcating"
   ]
  },
  {
   "cell_type": "code",
   "execution_count": 141,
   "metadata": {},
   "outputs": [
    {
     "name": "stdout",
     "output_type": "stream",
     "text": [
      "[1 2 3 4 5]\n",
      "[ True  True False False False]\n"
     ]
    }
   ],
   "source": [
    "a = np.arange(1, 6)\n",
    "print(a)\n",
    "#print(a*2)\n",
    "print(a < 3)"
   ]
  },
  {
   "cell_type": "markdown",
   "metadata": {},
   "source": [
    "#### Re-visiting shape and re-shape"
   ]
  },
  {
   "cell_type": "code",
   "execution_count": 147,
   "metadata": {},
   "outputs": [
    {
     "name": "stdout",
     "output_type": "stream",
     "text": [
      "(12,)\n",
      "(12, 1)\n",
      "[[ 0  1  2  3  4  5]\n",
      " [ 6  7  8  9 10 11]]\n"
     ]
    }
   ],
   "source": [
    "a = np.arange(12)\n",
    "b = a.reshape(1, 12)\n",
    "print(a.shape)\n",
    "#print(b.shape)\n",
    "# print(b.shape)\n",
    "print(b.T.shape)\n",
    "print(a.reshape(2,-1)) #  can only specify one unknown dimension"
   ]
  },
  {
   "cell_type": "markdown",
   "metadata": {},
   "source": [
    "#### Masking\n",
    "\n",
    "Masking generates a new copy of the array"
   ]
  },
  {
   "cell_type": "code",
   "execution_count": 155,
   "metadata": {},
   "outputs": [
    {
     "name": "stdout",
     "output_type": "stream",
     "text": [
      "[16 17 18 19 20 21 22 23 24 25 26 27 28 29]\n",
      "[16 17 18 19 20 21 22 23 24 25 26 27 28 29]\n"
     ]
    }
   ],
   "source": [
    "a_np = np.arange(30)\n",
    "a = list(range(30))\n",
    "mask = list(a_np > 15)\n",
    "#print(mask)\n",
    "print(a_np[mask])\n",
    "print(a_np[a_np>15]) # this can't be done on Python lists\n",
    "#print(a[[1, 2, 4]])"
   ]
  },
  {
   "cell_type": "markdown",
   "metadata": {},
   "source": [
    "#### Checking the Numpy array flags"
   ]
  },
  {
   "cell_type": "code",
   "execution_count": 156,
   "metadata": {},
   "outputs": [
    {
     "data": {
      "text/plain": [
       "  C_CONTIGUOUS : True\n",
       "  F_CONTIGUOUS : True\n",
       "  OWNDATA : True\n",
       "  WRITEABLE : True\n",
       "  ALIGNED : True\n",
       "  WRITEBACKIFCOPY : False\n",
       "  UPDATEIFCOPY : False"
      ]
     },
     "execution_count": 156,
     "metadata": {},
     "output_type": "execute_result"
    }
   ],
   "source": [
    "a_np.flags"
   ]
  },
  {
   "cell_type": "markdown",
   "metadata": {},
   "source": [
    "#### Some special arrays"
   ]
  },
  {
   "cell_type": "code",
   "execution_count": 159,
   "metadata": {},
   "outputs": [
    {
     "name": "stdout",
     "output_type": "stream",
     "text": [
      "[ 2.0000000e+000 -1.4945711e-154  1.9762626e-323  0.0000000e+000\n",
      "  0.0000000e+000  0.0000000e+000  2.0000000e+000]\n",
      "[[12. 12. 12. 12.]\n",
      " [12. 12. 12. 12.]\n",
      " [12. 12. 12. 12.]]\n",
      "[[0. 0. 0. 0.]\n",
      " [0. 0. 0. 0.]\n",
      " [0. 0. 0. 0.]]\n"
     ]
    }
   ],
   "source": [
    "x = 12\n",
    "print(np.empty(7)) # what garbage value that is present there\n",
    "print(np.ones((3, 4))* x) # creates an array of 5 elements with value x\n",
    "print(np.zeros((3, 4))) # provide dimension in tuple for multi-dimensional array"
   ]
  },
  {
   "cell_type": "markdown",
   "metadata": {},
   "source": [
    "#### Axis "
   ]
  },
  {
   "cell_type": "code",
   "execution_count": 163,
   "metadata": {},
   "outputs": [
    {
     "name": "stdout",
     "output_type": "stream",
     "text": [
      "66\n",
      "66\n",
      "[[ 0  1  2  3]\n",
      " [ 4  5  6  7]\n",
      " [ 8  9 10 11]]\n",
      "[12 15 18 21]\n"
     ]
    }
   ],
   "source": [
    "a = np.arange(12)\n",
    "print(a.sum())\n",
    "b = a.reshape(3, 4)\n",
    "print(b.sum())\n",
    "\n",
    "print(b)\n",
    "print(b.sum(axis=0))"
   ]
  },
  {
   "cell_type": "markdown",
   "metadata": {},
   "source": [
    "#### Reproducibility (seed function)"
   ]
  },
  {
   "cell_type": "code",
   "execution_count": 168,
   "metadata": {},
   "outputs": [
    {
     "name": "stdout",
     "output_type": "stream",
     "text": [
      "1582021210.697855\n"
     ]
    }
   ],
   "source": [
    "from time import time\n",
    "print(time()) # Jan 1, 1970"
   ]
  },
  {
   "cell_type": "code",
   "execution_count": 172,
   "metadata": {},
   "outputs": [
    {
     "name": "stdout",
     "output_type": "stream",
     "text": [
      "0.4683793802760553\n",
      "0.3515409767270241\n",
      "0.22737254003902674\n"
     ]
    }
   ],
   "source": [
    "import random\n",
    "print(random.random())\n",
    "print(random.random())\n",
    "print(random.random())"
   ]
  },
  {
   "cell_type": "code",
   "execution_count": 177,
   "metadata": {},
   "outputs": [
    {
     "name": "stdout",
     "output_type": "stream",
     "text": [
      "0.48124663407330837\n",
      "0.6660875572249376\n",
      "0.6198336951349463\n"
     ]
    }
   ],
   "source": [
    "random.seed(112)\n",
    "print(random.random())\n",
    "print(random.random())\n",
    "print(random.random())"
   ]
  },
  {
   "cell_type": "code",
   "execution_count": null,
   "metadata": {},
   "outputs": [],
   "source": []
  },
  {
   "cell_type": "code",
   "execution_count": null,
   "metadata": {},
   "outputs": [],
   "source": []
  }
 ],
 "metadata": {
  "kernelspec": {
   "display_name": "Python 3",
   "language": "python",
   "name": "python3"
  },
  "language_info": {
   "codemirror_mode": {
    "name": "ipython",
    "version": 3
   },
   "file_extension": ".py",
   "mimetype": "text/x-python",
   "name": "python",
   "nbconvert_exporter": "python",
   "pygments_lexer": "ipython3",
   "version": "3.7.2"
  }
 },
 "nbformat": 4,
 "nbformat_minor": 2
}
